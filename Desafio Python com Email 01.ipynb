{
 "cells": [
  {
   "cell_type": "markdown",
   "metadata": {
    "id": "pP_37DYWZ51Z"
   },
   "source": [
    "# Desafio Python e E-mail\n",
    "\n",
    "### Descrição\n",
    "\n",
    "Digamos que você trabalha em uma indústria e está responsável pela área de inteligência de negócio.\n",
    "\n",
    "Todo dia, você, a equipe ou até mesmo um programa, gera um report diferente para cada área da empresa:\n",
    "- Financeiro\n",
    "- Logística\n",
    "- Manutenção\n",
    "- Marketing\n",
    "- Operações\n",
    "- Produção\n",
    "- Vendas\n",
    "\n",
    "Cada um desses reports deve ser enviado por e-mail para o Gerente de cada Área.\n",
    "\n",
    "Crie um programa que faça isso automaticamente. A relação de Gerentes (com seus respectivos e-mails) e áreas está no arquivo 'Enviar E-mails.xlsx'.\n",
    "\n",
    "Dica: Use o pandas read_excel para ler o arquivo dos e-mails que isso vai facilitar."
   ]
  },
  {
   "cell_type": "code",
   "execution_count": 11,
   "metadata": {
    "id": "TblXQ5r5Z51d"
   },
   "outputs": [],
   "source": [
    "import pandas as pd\n",
    "import win32com.client as win32\n",
    "outlook = win32.Dispatch('outlook.application')\n",
    "\n",
    "gerentes_df = pd.read_excel('Enviar E-mails.xlsx')\n",
    "\n",
    "for i, email in enumerate(gerentes_df['E-mail']):\n",
    "    gerente = gerentes_df.loc[i, 'Gerente']\n",
    "    area = gerentes_df.loc[i, 'Relatório']\n",
    "    \n",
    "    mail = outlook.CreateItem(0)\n",
    "    mail.To = email\n",
    "    mail.Subject = 'Relatório de {}.'.format(area)\n",
    "    mail.Body = '''\n",
    "    Prezado {};\n",
    "    Seguer em anexo o relatório de {}, conforme solicitado;\n",
    "    Qualquer estou a disposição para esclarecimentos.\n",
    "    Att Rafael Portella.\n",
    "    '''.format(gerente, area)\n",
    "    attachment = r'C:\\Users\\rafae\\OneDrive\\Área de Trabalho\\IDE_Jupter\\interacao_outlook\\{}.xlsx'.format(area)\n",
    "    \n",
    "    \n",
    "    ### Nesse caso o format funciona pq a area é o mesmo nome do arquivo, caso não fosse eu teria que criar um coluna com o\n",
    "    ###nome do arquivo para usa-lo no format e poder percorrer no for e dar certo.\n",
    "    mail.Attachments.Add(attachment)\n",
    "    \n",
    "    mail.Send()"
   ]
  }
 ],
 "metadata": {
  "colab": {
   "collapsed_sections": [],
   "name": "Desafio Python com Email 01.ipynb",
   "provenance": []
  },
  "kernelspec": {
   "display_name": "Python 3 (ipykernel)",
   "language": "python",
   "name": "python3"
  },
  "language_info": {
   "codemirror_mode": {
    "name": "ipython",
    "version": 3
   },
   "file_extension": ".py",
   "mimetype": "text/x-python",
   "name": "python",
   "nbconvert_exporter": "python",
   "pygments_lexer": "ipython3",
   "version": "3.9.12"
  }
 },
 "nbformat": 4,
 "nbformat_minor": 1
}
